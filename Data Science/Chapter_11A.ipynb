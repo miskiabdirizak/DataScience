{
 "cells": [
  {
   "cell_type": "code",
   "execution_count": 1,
   "metadata": {},
   "outputs": [],
   "source": [
    "import pandas as pd\n",
    "import numpy as np\n",
    "import seaborn as sns\n",
    "import matplotlib.pyplot as plt\n"
   ]
  },
  {
   "cell_type": "code",
   "execution_count": 2,
   "metadata": {},
   "outputs": [
    {
     "name": "stdout",
     "output_type": "stream",
     "text": [
      "['sepal length (cm)', 'sepal width (cm)', 'petal length (cm)', 'petal width (cm)']\n",
      "<class 'pandas.core.frame.DataFrame'>\n",
      "RangeIndex: 150 entries, 0 to 149\n",
      "Data columns (total 5 columns):\n",
      " #   Column             Non-Null Count  Dtype  \n",
      "---  ------             --------------  -----  \n",
      " 0   sepal length (cm)  150 non-null    float64\n",
      " 1   sepal width (cm)   150 non-null    float64\n",
      " 2   petal length (cm)  150 non-null    float64\n",
      " 3   petal width (cm)   150 non-null    float64\n",
      " 4   target             150 non-null    int64  \n",
      "dtypes: float64(4), int64(1)\n",
      "memory usage: 6.0 KB\n"
     ]
    }
   ],
   "source": [
    "#  load iris toy dataset we will use for building these classifiers\n",
    "from sklearn.datasets import load_iris\n",
    "data = load_iris()\n",
    "desc_features = data.feature_names\n",
    "print(desc_features)\n",
    "df = pd.DataFrame(data.data, columns=data.feature_names)\n",
    "df['target'] = data.target\n",
    "df.info()"
   ]
  },
  {
   "cell_type": "code",
   "execution_count": 3,
   "metadata": {},
   "outputs": [],
   "source": [
    "from sklearn.model_selection import train_test_split\n",
    "X = df[desc_features]\n",
    "y = df['target']\n",
    "X_train, X_test, Y_train, Y_test = train_test_split(X, y, test_size=0.40, random_state=0)"
   ]
  },
  {
   "cell_type": "code",
   "execution_count": 4,
   "metadata": {},
   "outputs": [
    {
     "data": {
      "text/plain": [
       "((90, 4), (90,))"
      ]
     },
     "execution_count": 4,
     "metadata": {},
     "output_type": "execute_result"
    }
   ],
   "source": [
    "X_train.shape, Y_train.shape"
   ]
  },
  {
   "cell_type": "code",
   "execution_count": 6,
   "metadata": {},
   "outputs": [
    {
     "data": {
      "text/plain": [
       "((60, 4), (60,))"
      ]
     },
     "execution_count": 6,
     "metadata": {},
     "output_type": "execute_result"
    }
   ],
   "source": [
    "X_test.shape, Y_test.shape"
   ]
  },
  {
   "cell_type": "code",
   "execution_count": 9,
   "metadata": {},
   "outputs": [
    {
     "data": {
      "text/plain": [
       "0.95"
      ]
     },
     "execution_count": 9,
     "metadata": {},
     "output_type": "execute_result"
    }
   ],
   "source": [
    "from sklearn.tree import DecisionTreeClassifier\n",
    "dt_clf = DecisionTreeClassifier()\n",
    "\n",
    "dt_clf.fit(X_train, Y_train) # training\n",
    "\n",
    "dt_clf.score(X_test, Y_test) # testing "
   ]
  },
  {
   "cell_type": "code",
   "execution_count": 10,
   "metadata": {},
   "outputs": [
    {
     "name": "stdout",
     "output_type": "stream",
     "text": [
      "[0.96666667 0.96666667 0.9        0.96666667 1.        ]\n",
      "CV mean accuracy:0.96 with a sd:0.03\n"
     ]
    }
   ],
   "source": [
    "from sklearn.model_selection import cross_val_score\n",
    "\n",
    "# computing cross-validated metrics\n",
    "dt_clf = DecisionTreeClassifier()\n",
    "\n",
    "# simplest way to use CV is to use the cross_val_score function on the estimator and the dataset.\n",
    "scores = cross_val_score(dt_clf, X, y, cv=5)\n",
    "print(scores)\n",
    "\n",
    "print(\"CV mean accuracy:{:.2f} with a sd:{:.2f}\".format(scores.mean(), scores.std()))"
   ]
  },
  {
   "cell_type": "code",
   "execution_count": 11,
   "metadata": {},
   "outputs": [
    {
     "name": "stdout",
     "output_type": "stream",
     "text": [
      "[1.         0.93265993 1.         0.93265993 0.93265993 0.86666667\n",
      " 0.93265993 0.93265993 1.         1.        ]\n",
      "10-fold CV\n",
      "\tMean F1_macro:0.95 with a sd:0.04\n"
     ]
    }
   ],
   "source": [
    "from sklearn import metrics\n",
    "\n",
    "# you can change the scoring function (scoring parameter) as well as the number of folds (cv parameter)\n",
    "f1_scores = cross_val_score(dt_clf, X, y, cv=10, scoring='f1_macro')\n",
    "print(f1_scores)\n",
    "\n",
    "print(\"10-fold CV\\n\\tMean F1_macro:{:.2f} with a sd:{:.2f}\".format(f1_scores.mean(), f1_scores.std()))"
   ]
  },
  {
   "cell_type": "code",
   "execution_count": 13,
   "metadata": {},
   "outputs": [
    {
     "name": "stdout",
     "output_type": "stream",
     "text": [
      "['fit_time', 'score_time', 'test_precision_macro', 'test_recall_macro']\n",
      "Recall scores [0.96666667 0.96666667 0.9        0.93333333 1.        ]\n",
      "Precision scores [0.96969697 0.96969697 0.9023569  0.93333333 1.        ]\n",
      "CV mean recall:0.95 with a sd:0.03\n",
      "CV mean precision:0.96 with a sd:0.03\n"
     ]
    }
   ],
   "source": [
    "# for more control over the CV process 'cross_validate' function can also be used\n",
    "\n",
    "from sklearn.model_selection import cross_validate\n",
    "from sklearn.metrics import recall_score\n",
    "\n",
    "scoring_funcs = ['precision_macro', 'recall_macro']\n",
    "\n",
    "scores = cross_validate(dt_clf, X, y, scoring=scoring_funcs)\n",
    "print(sorted(scores.keys()))\n",
    "\n",
    "print('Recall scores', scores['test_recall_macro'])\n",
    "print('Precision scores', scores['test_precision_macro'])\n",
    "\n",
    "print(\"CV mean recall:{:.2f} with a sd:{:.2f}\".format(scores['test_recall_macro'].mean(), scores['test_recall_macro'].std()))\n",
    "print(\"CV mean precision:{:.2f} with a sd:{:.2f}\".format(scores['test_precision_macro'].mean(), scores['test_precision_macro'].std()))"
   ]
  },
  {
   "cell_type": "code",
   "execution_count": 14,
   "metadata": {},
   "outputs": [
    {
     "data": {
      "text/plain": [
       "['estimator', 'fit_time', 'score_time', 'test_score']"
      ]
     },
     "execution_count": 14,
     "metadata": {},
     "output_type": "execute_result"
    }
   ],
   "source": [
    "scores = cross_validate(dt_clf, X, y, scoring='accuracy', cv=4, return_estimator=True)\n",
    "sorted(scores.keys())"
   ]
  },
  {
   "cell_type": "code",
   "execution_count": 16,
   "metadata": {},
   "outputs": [
    {
     "data": {
      "text/plain": [
       "DecisionTreeClassifier(ccp_alpha=0.0, class_weight=None, criterion='gini',\n",
       "                       max_depth=None, max_features=None, max_leaf_nodes=None,\n",
       "                       min_impurity_decrease=0.0, min_impurity_split=None,\n",
       "                       min_samples_leaf=1, min_samples_split=2,\n",
       "                       min_weight_fraction_leaf=0.0, presort='deprecated',\n",
       "                       random_state=None, splitter='best')"
      ]
     },
     "execution_count": 16,
     "metadata": {},
     "output_type": "execute_result"
    }
   ],
   "source": [
    "# you can also see the estimators\n",
    "scores['estimator']\n",
    "\n",
    "# fold1_est = scores['estimator'][0]\n",
    "# fold1_est"
   ]
  },
  {
   "cell_type": "code",
   "execution_count": 18,
   "metadata": {},
   "outputs": [
    {
     "name": "stdout",
     "output_type": "stream",
     "text": [
      "Fold 1 3NN accuracy score 0.947\n",
      "Fold 2 3NN accuracy score 1.000\n",
      "Fold 3 3NN accuracy score 0.973\n",
      "Fold 4 3NN accuracy score 0.946\n"
     ]
    }
   ],
   "source": [
    "from sklearn.model_selection import KFold\n",
    "from sklearn.neighbors import KNeighborsClassifier\n",
    "from sklearn.metrics import accuracy_score\n",
    "\n",
    "# you can also use KFold, which divides all the samples in  groups of samples. \n",
    "kf = KFold(n_splits=4, shuffle=True, random_state=7)\n",
    "\n",
    "#here train and test will be the indices of training and testing sets in each random fold\n",
    "X_val = X.to_numpy()\n",
    "y_val = y.to_numpy()\n",
    "for i, (train, test) in enumerate(kf.split(X)):\n",
    "#     print(\"%s %s\" % (train, test))\n",
    "    X_train, X_test, Y_train, Y_test = X_val[train], X_val[test], y_val[train], y_val[test]\n",
    "    \n",
    "    nn_clf = KNeighborsClassifier(n_neighbors=3)\n",
    "    nn_clf.fit(X_train, Y_train)\n",
    "    \n",
    "    y_pred = nn_clf.predict(X_test)\n",
    "    print('Fold {} 3NN accuracy score {:.3f}'.format(i+1, accuracy_score(y_pred, Y_test)) )"
   ]
  },
  {
   "cell_type": "code",
   "execution_count": 20,
   "metadata": {},
   "outputs": [
    {
     "name": "stdout",
     "output_type": "stream",
     "text": [
      "Mean LOOCV accuracy score for 3NN classifier 0.960\n"
     ]
    }
   ],
   "source": [
    "from sklearn.model_selection import LeaveOneOut\n",
    "\n",
    "# leave one out can also be used as a cv schema, which leaves one sample for testing and n-1 for training. \n",
    "loocv = LeaveOneOut()\n",
    "\n",
    "X_val = X.to_numpy()\n",
    "y_val = y.to_numpy()\n",
    "\n",
    "loocv_scores = []\n",
    "\n",
    "for i, (train, test) in enumerate(loocv.split(X)):\n",
    "    X_train, X_test, Y_train, Y_test = X_val[train], X_val[test], y_val[train], y_val[test]\n",
    "    \n",
    "    nn_clf = KNeighborsClassifier(n_neighbors=3)\n",
    "    nn_clf.fit(X_train, Y_train)\n",
    "    \n",
    "    y_pred = nn_clf.predict(X_test)\n",
    "    loocv_scores.append(accuracy_score(y_pred, Y_test))\n",
    "\n",
    "# loocv_scores\n",
    "print('Mean LOOCV accuracy score for 3NN classifier {:.3f}'.format(np.mean(loocv_scores)) )\n"
   ]
  },
  {
   "cell_type": "code",
   "execution_count": 21,
   "metadata": {},
   "outputs": [
    {
     "name": "stdout",
     "output_type": "stream",
     "text": [
      "Random holdout 1-- 3NN accuracy score 0.960\n",
      "Random holdout 2-- 3NN accuracy score 0.940\n",
      "Random holdout 3-- 3NN accuracy score 0.980\n",
      "Random holdout 4-- 3NN accuracy score 0.920\n",
      "Random holdout 5-- 3NN accuracy score 0.980\n",
      "Random holdout 6-- 3NN accuracy score 0.900\n",
      "Random holdout 7-- 3NN accuracy score 0.980\n",
      "Random holdout 8-- 3NN accuracy score 1.000\n",
      "Random holdout 9-- 3NN accuracy score 0.960\n",
      "Random holdout 10-- 3NN accuracy score 0.960\n",
      "Mean random holdout accuracy score for 3NN classifier 0.958\n"
     ]
    }
   ],
   "source": [
    "from sklearn.model_selection import ShuffleSplit\n",
    "\n",
    "# shuffle split creates repeated random holdout samples\n",
    "rs = ShuffleSplit(n_splits=10, test_size=.33, random_state=0)\n",
    "# this instance will create 10 random holdout samples (1/3-2/3)\n",
    "rs.get_n_splits(X)\n",
    "\n",
    "rs_scores = []\n",
    "for i, (train, test) in enumerate(rs.split(X)):\n",
    "#     print(\"%s %s\" % (train, test))\n",
    "    X_train, X_test, Y_train, Y_test = X_val[train], X_val[test], y_val[train], y_val[test]\n",
    "    \n",
    "    nn_clf = KNeighborsClassifier(n_neighbors=3)\n",
    "    nn_clf.fit(X_train, Y_train)\n",
    "    \n",
    "    y_pred = nn_clf.predict(X_test)\n",
    "    rs_scores.append(accuracy_score(y_pred, Y_test))\n",
    "    print('Random holdout {}-- 3NN accuracy score {:.3f}'.format(i+1, accuracy_score(y_pred, Y_test)) )\n",
    "\n",
    "print('Mean random holdout accuracy score for 3NN classifier {:.3f}'.format(np.mean(rs_scores)) )"
   ]
  },
  {
   "cell_type": "code",
   "execution_count": 24,
   "metadata": {},
   "outputs": [
    {
     "name": "stdout",
     "output_type": "stream",
     "text": [
      "Mean bootstrap (OOB) accuracy score for 3NN classifier 0.947\n"
     ]
    }
   ],
   "source": [
    "# bootstrap sampling using resample\n",
    "from sklearn.utils import resample\n",
    "# prepare bootstrap sample\n",
    "\n",
    "B = 1000 # number of bootstrap samples\n",
    "N_ = int(df.shape[0] * 0.3) # resample size is 30% of original data \n",
    "\n",
    "btsp_scores = []\n",
    "\n",
    "for i in range(B):\n",
    "    df_boot_train = resample(df, replace=True, n_samples=N_, random_state=i)\n",
    "    # print('Bootstrap Sample: %s' % boot)\n",
    "    X_train = df_boot_train[desc_features]\n",
    "    Y_train = df_boot_train['target']\n",
    "#     print(X_train.shape)\n",
    "\n",
    "    # out of bag observations\n",
    "    oob_sample = df[~df.index.isin(df_boot_train.index)]\n",
    "#     # print('OOB Sample: %s' % oob_sample)\n",
    "    X_test = oob_sample[desc_features]\n",
    "    Y_test = oob_sample['target']\n",
    "#     print('\\t',X_test.shape)\n",
    "    \n",
    "    nn_clf = KNeighborsClassifier(n_neighbors=3)\n",
    "    nn_clf.fit(X_train, Y_train)\n",
    "    \n",
    "    y_pred = nn_clf.predict(X_test)\n",
    "    btsp_scores.append(accuracy_score(y_pred, Y_test))\n",
    "\n",
    "print('Mean bootstrap (OOB) accuracy score for 3NN classifier {:.3f}'.format(np.mean(btsp_scores)) )"
   ]
  },
  {
   "cell_type": "code",
   "execution_count": 26,
   "metadata": {},
   "outputs": [
    {
     "name": "stderr",
     "output_type": "stream",
     "text": [
      "/home/baydin2/anaconda3/lib/python3.7/site-packages/seaborn/_decorators.py:43: FutureWarning: Pass the following variable as a keyword arg: x. From version 0.12, the only valid positional argument will be `data`, and passing other arguments without an explicit keyword will result in an error or misinterpretation.\n",
      "  FutureWarning\n"
     ]
    },
    {
     "data": {
      "image/png": "[encoded data removed]",
      "text/plain": [
       "<Figure size 432x288 with 2 Axes>"
      ]
     },
     "metadata": {
      "needs_background": "light"
     },
     "output_type": "display_data"
    }
   ],
   "source": [
    "f, (ax_box, ax_hist) = plt.subplots(2, sharex=True, gridspec_kw={\"height_ratios\": (.15, .85)})\n",
    " \n",
    "# assigning a graph to each ax\n",
    "sns.boxplot(btsp_scores, ax=ax_box)\n",
    "sns.histplot(btsp_scores, ax=ax_hist, bins=20, kde=True)\n",
    " \n",
    "# Remove x axis name for the boxplot\n",
    "ax_hist.set(xlabel='Accuracy')\n",
    "plt.show()"
   ]
  }
 ],
 "metadata": {
  "kernelspec": {
   "display_name": "Python 3.9.12 ('base')",
   "language": "python",
   "name": "python3"
  },
  "language_info": {
   "codemirror_mode": {
    "name": "ipython",
    "version": 3
   },
   "file_extension": ".py",
   "mimetype": "text/x-python",
   "name": "python",
   "nbconvert_exporter": "python",
   "pygments_lexer": "ipython3",
   "version": "3.9.12"
  },
  "vscode": {
   "interpreter": {
    "hash": "40d3a090f54c6569ab1632332b64b2c03c39dcf918b08424e98f38b5ae0af88f"
   }
  }
 },
 "nbformat": 4,
 "nbformat_minor": 4
}
